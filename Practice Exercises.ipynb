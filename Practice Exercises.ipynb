{
 "cells": [
  {
   "cell_type": "markdown",
   "id": "b60c2c79",
   "metadata": {},
   "source": [
    "Exercise 1"
   ]
  },
  {
   "cell_type": "code",
   "execution_count": 35,
   "id": "84b04b5e",
   "metadata": {},
   "outputs": [
    {
     "name": "stdout",
     "output_type": "stream",
     "text": [
      "Number 1 : 4\n",
      "Number 2: 54\n"
     ]
    }
   ],
   "source": [
    "#Enter Python code here and hit the Run button.\n",
    "num1 = int(input(\"Number 1 : \"))\n",
    "num2 = int(input(\"Number 2: \"))\n"
   ]
  },
  {
   "cell_type": "code",
   "execution_count": 36,
   "id": "1bd06b14",
   "metadata": {},
   "outputs": [],
   "source": [
    "product = num1 * num2\n"
   ]
  },
  {
   "cell_type": "code",
   "execution_count": 37,
   "id": "77bd2cbe",
   "metadata": {},
   "outputs": [
    {
     "name": "stdout",
     "output_type": "stream",
     "text": [
      "The result is:  216\n"
     ]
    }
   ],
   "source": [
    "\n",
    "if product <= 1000:\n",
    "    print(\"The result is: \", product)\n",
    "else:\n",
    "    print(\"The result is: \", num1 + num2)"
   ]
  },
  {
   "cell_type": "markdown",
   "id": "fa73d1e7",
   "metadata": {},
   "source": [
    "Exercise 2"
   ]
  },
  {
   "cell_type": "code",
   "execution_count": 38,
   "id": "209c89e5",
   "metadata": {},
   "outputs": [
    {
     "name": "stdout",
     "output_type": "stream",
     "text": [
      "Current number is  0  Previous number  -1  Sum:  -1\n",
      "Current number is  1  Previous number  0  Sum:  1\n",
      "Current number is  2  Previous number  1  Sum:  3\n",
      "Current number is  3  Previous number  2  Sum:  5\n",
      "Current number is  4  Previous number  3  Sum:  7\n",
      "Current number is  5  Previous number  4  Sum:  9\n",
      "Current number is  6  Previous number  5  Sum:  11\n",
      "Current number is  7  Previous number  6  Sum:  13\n",
      "Current number is  8  Previous number  7  Sum:  15\n",
      "Current number is  9  Previous number  8  Sum:  17\n"
     ]
    }
   ],
   "source": [
    "for i in range(0,10):\n",
    "    print(\"Current number is \", i ,\" Previous number \",i-1,\" Sum: \",i+(i-1) )"
   ]
  },
  {
   "cell_type": "markdown",
   "id": "c3c98b9d",
   "metadata": {},
   "source": [
    "Exercise 3\n"
   ]
  },
  {
   "cell_type": "code",
   "execution_count": 39,
   "id": "afc104b2",
   "metadata": {},
   "outputs": [
    {
     "name": "stdout",
     "output_type": "stream",
     "text": [
      "Enter string: Pycharm\n"
     ]
    }
   ],
   "source": [
    "str = input(\"Enter string: \")"
   ]
  },
  {
   "cell_type": "code",
   "execution_count": 40,
   "id": "ad93c839",
   "metadata": {},
   "outputs": [],
   "source": [
    "size = len(str)"
   ]
  },
  {
   "cell_type": "code",
   "execution_count": 41,
   "id": "0e100412",
   "metadata": {},
   "outputs": [
    {
     "name": "stdout",
     "output_type": "stream",
     "text": [
      "index 0 P\n",
      "index 2 c\n",
      "index 4 a\n"
     ]
    }
   ],
   "source": [
    "for i in range(0, size-1, 2 ):\n",
    "    print(\"index\", i, str[i]) "
   ]
  },
  {
   "cell_type": "markdown",
   "id": "04ea8856",
   "metadata": {},
   "source": [
    "Exercise 4"
   ]
  },
  {
   "cell_type": "code",
   "execution_count": 42,
   "id": "4f4b4964",
   "metadata": {},
   "outputs": [
    {
     "name": "stdout",
     "output_type": "stream",
     "text": [
      "Enter string: Aditya\n"
     ]
    }
   ],
   "source": [
    "str = input(\"Enter string: \")"
   ]
  },
  {
   "cell_type": "code",
   "execution_count": 43,
   "id": "bd3f0132",
   "metadata": {},
   "outputs": [],
   "source": [
    "size = len(str)"
   ]
  },
  {
   "cell_type": "code",
   "execution_count": 44,
   "id": "7f035098",
   "metadata": {},
   "outputs": [
    {
     "name": "stdout",
     "output_type": "stream",
     "text": [
      "Number of chars to be removed: 2\n"
     ]
    }
   ],
   "source": [
    "n = int(input(\"Number of chars to be removed: \"))"
   ]
  },
  {
   "cell_type": "code",
   "execution_count": 45,
   "id": "499b011f",
   "metadata": {},
   "outputs": [],
   "source": [
    "while(n > size):\n",
    "    n = int(input(\"Enter valid chars to be removed: \"))"
   ]
  },
  {
   "cell_type": "code",
   "execution_count": 48,
   "id": "05f82ef1",
   "metadata": {},
   "outputs": [
    {
     "name": "stdout",
     "output_type": "stream",
     "text": [
      "itya\n"
     ]
    }
   ],
   "source": [
    "print(str[n:])"
   ]
  },
  {
   "cell_type": "markdown",
   "id": "7537b210",
   "metadata": {},
   "source": [
    "Exercise 5"
   ]
  },
  {
   "cell_type": "code",
   "execution_count": 49,
   "id": "a450ece6",
   "metadata": {},
   "outputs": [],
   "source": [
    "numbers_x = [10, 20, 30, 40, 10]\n",
    "numbers_y = [75, 65, 35, 75, 30]"
   ]
  },
  {
   "cell_type": "code",
   "execution_count": 52,
   "id": "162d82a0",
   "metadata": {},
   "outputs": [
    {
     "name": "stdout",
     "output_type": "stream",
     "text": [
      "result is  True\n"
     ]
    }
   ],
   "source": [
    "print(\"result is \", numbers_x[0] == numbers_x[-1])"
   ]
  },
  {
   "cell_type": "code",
   "execution_count": 53,
   "id": "61a2ea39",
   "metadata": {},
   "outputs": [
    {
     "name": "stdout",
     "output_type": "stream",
     "text": [
      "result is  False\n"
     ]
    }
   ],
   "source": [
    "print(\"result is \",numbers_y[0] == numbers_y[-1])"
   ]
  },
  {
   "cell_type": "markdown",
   "id": "21d8b202",
   "metadata": {},
   "source": [
    "Exercise 6"
   ]
  },
  {
   "cell_type": "code",
   "execution_count": 59,
   "id": "ba8cf626",
   "metadata": {},
   "outputs": [],
   "source": [
    "num_list = [10, 20, 33, 46, 55]"
   ]
  },
  {
   "cell_type": "code",
   "execution_count": 61,
   "id": "6933aed7",
   "metadata": {},
   "outputs": [
    {
     "name": "stdout",
     "output_type": "stream",
     "text": [
      "10\n",
      "20\n",
      "55\n"
     ]
    }
   ],
   "source": [
    "for i in num_list:\n",
    "    if i % 5 == 0:\n",
    "        print(i)"
   ]
  },
  {
   "cell_type": "markdown",
   "id": "89cc1bce",
   "metadata": {},
   "source": [
    "Exercise 7"
   ]
  },
  {
   "cell_type": "code",
   "execution_count": 62,
   "id": "5f5b13cd",
   "metadata": {},
   "outputs": [],
   "source": [
    "str_x = \"Emma is good developer. Emma is a writer\""
   ]
  },
  {
   "cell_type": "code",
   "execution_count": 64,
   "id": "746d9725",
   "metadata": {},
   "outputs": [
    {
     "name": "stdout",
     "output_type": "stream",
     "text": [
      "Emma appeared 2 times\n"
     ]
    }
   ],
   "source": [
    "print(\"Emma appeared\", str_x.count(\"Emma\"),\"times\")"
   ]
  },
  {
   "cell_type": "markdown",
   "id": "ea4dd8f6",
   "metadata": {},
   "source": [
    "Function Exercises"
   ]
  },
  {
   "cell_type": "markdown",
   "id": "d49acc55",
   "metadata": {},
   "source": [
    "Exercise 1"
   ]
  },
  {
   "cell_type": "code",
   "execution_count": 6,
   "id": "11ed31a0",
   "metadata": {},
   "outputs": [
    {
     "name": "stdout",
     "output_type": "stream",
     "text": [
      "Adi 28\n"
     ]
    }
   ],
   "source": [
    "def print_name_age(name,age):\n",
    "    print(name, age)\n",
    "    \n",
    "print_name_age(\"Adi\",28)"
   ]
  },
  {
   "cell_type": "code",
   "execution_count": 15,
   "id": "7896f6fc",
   "metadata": {},
   "outputs": [
    {
     "name": "stdout",
     "output_type": "stream",
     "text": [
      "20\n",
      "40\n",
      "60\n",
      "70\n",
      "90\n",
      "110\n"
     ]
    }
   ],
   "source": [
    "def func1(*args):\n",
    "    for i in args:\n",
    "        print(i)\n",
    "func1(20,40,60)\n",
    "func1(70,90,110)"
   ]
  },
  {
   "cell_type": "code",
   "execution_count": 22,
   "id": "41a019fc",
   "metadata": {},
   "outputs": [
    {
     "name": "stdout",
     "output_type": "stream",
     "text": [
      "(70, 10)\n"
     ]
    }
   ],
   "source": [
    "def calculation(a,b):\n",
    "    addition = a+b\n",
    "    subtraction = a-b\n",
    "    return addition, subtraction\n",
    "\n",
    "res = calculation(40,30)\n",
    "print(res)"
   ]
  },
  {
   "cell_type": "code",
   "execution_count": 24,
   "id": "6dec93f5",
   "metadata": {},
   "outputs": [
    {
     "name": "stdout",
     "output_type": "stream",
     "text": [
      "Name:  Adi  Salary:  1000\n",
      "Name:  Adi  Salary:  9000\n"
     ]
    }
   ],
   "source": [
    "def show_employees(name, salary = 9000):\n",
    "    print(\"Name: \", name,\" Salary: \",salary)\n",
    "\n",
    "show_employees(\"Adi\", 1000)\n",
    "show_employees(\"Adi\")\n",
    "    \n",
    "    "
   ]
  },
  {
   "cell_type": "code",
   "execution_count": null,
   "id": "e0e55d3e",
   "metadata": {},
   "outputs": [],
   "source": []
  }
 ],
 "metadata": {
  "kernelspec": {
   "display_name": "Python 3",
   "language": "python",
   "name": "python3"
  },
  "language_info": {
   "codemirror_mode": {
    "name": "ipython",
    "version": 3
   },
   "file_extension": ".py",
   "mimetype": "text/x-python",
   "name": "python",
   "nbconvert_exporter": "python",
   "pygments_lexer": "ipython3",
   "version": "3.8.8"
  }
 },
 "nbformat": 4,
 "nbformat_minor": 5
}
